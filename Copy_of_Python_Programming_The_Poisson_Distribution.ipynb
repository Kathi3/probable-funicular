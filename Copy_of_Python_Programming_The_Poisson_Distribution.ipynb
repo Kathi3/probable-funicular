{
  "nbformat": 4,
  "nbformat_minor": 0,
  "metadata": {
    "colab": {
      "name": "Copy of Python Programming: The Poisson Distribution",
      "provenance": [],
      "collapsed_sections": [
        "qbU9R__X9No0",
        "IrKYwHaHJsQJ"
      ],
      "toc_visible": true,
      "include_colab_link": true
    },
    "kernelspec": {
      "name": "python3",
      "display_name": "Python 3"
    }
  },
  "cells": [
    {
      "cell_type": "markdown",
      "metadata": {
        "id": "view-in-github",
        "colab_type": "text"
      },
      "source": [
        "<a href=\"https://colab.research.google.com/github/Kathi3/probable-funicular/blob/main/Copy_of_Python_Programming_The_Poisson_Distribution.ipynb\" target=\"_parent\"><img src=\"https://colab.research.google.com/assets/colab-badge.svg\" alt=\"Open In Colab\"/></a>"
      ]
    },
    {
      "cell_type": "markdown",
      "metadata": {
        "id": "B6aB2C4MohHT"
      },
      "source": [
        "<font color=\"green\">*To start working on this notebook, or any other notebook that we will use in the Moringa Data Science Course, we will need to save our own copy of it. We can do this by clicking File > Save a Copy in Drive. We will then be able to make edits to our own copy of this notebook.*</font>"
      ]
    },
    {
      "cell_type": "markdown",
      "metadata": {
        "id": "SDSkLLGrJqLF"
      },
      "source": [
        "# Python Programming: Poisson Distribution"
      ]
    },
    {
      "cell_type": "markdown",
      "metadata": {
        "id": "qbU9R__X9No0"
      },
      "source": [
        "## Importing Our Libraries"
      ]
    },
    {
      "cell_type": "code",
      "metadata": {
        "id": "Uw2dkvyv9Mfo"
      },
      "source": [
        "# \n",
        "# importing poisson from scipy \n",
        "#\n",
        "from scipy.stats import poisson"
      ],
      "execution_count": 4,
      "outputs": []
    },
    {
      "cell_type": "markdown",
      "metadata": {
        "id": "IrKYwHaHJsQJ"
      },
      "source": [
        "## 1.0 Basic Questions "
      ]
    },
    {
      "cell_type": "code",
      "metadata": {
        "id": "mGhBTwuqJn69",
        "colab": {
          "base_uri": "https://localhost:8080/"
        },
        "outputId": "53866da8-c1af-47cf-c090-db096a8f97c7"
      },
      "source": [
        "# Example 1\n",
        "# ---\n",
        "# Question: An average of 20 customers walks into a store in a given hour. \n",
        "# What is the probability that 25 customers walk into a store in the next hour?\n",
        "# ---\n",
        "\n",
        "# Assigning the value of the mean of the distribution\n",
        "# This is average number of successes over a given time period. \n",
        "# \n",
        "mean = 20\n",
        "\n",
        "# Assigning the value of x (integer) at which the value of the density function is required\n",
        "# This is our random variable; The number of successes we want to find the probability mass of given our knowledge of mean.\n",
        "#\n",
        "lambda_ = 25\n",
        "\n",
        "# The value at x of the probability density function f(x) is:\n",
        "#\n",
        "poisson.pmf(lambda_, mean)"
      ],
      "execution_count": 33,
      "outputs": [
        {
          "output_type": "execute_result",
          "data": {
            "text/plain": [
              "0.04458764910826764"
            ]
          },
          "metadata": {},
          "execution_count": 33
        }
      ]
    },
    {
      "cell_type": "markdown",
      "metadata": {
        "id": "2qQrDLNp3cav"
      },
      "source": [
        "### <font color=\"green\">1.0 Challenges</font>"
      ]
    },
    {
      "cell_type": "code",
      "metadata": {
        "id": "GcWHfnUX9wqU",
        "colab": {
          "base_uri": "https://localhost:8080/"
        },
        "outputId": "ebf67971-4b43-4806-a1d4-9c9e6db7f420"
      },
      "source": [
        "# Challenge 1\n",
        "# ---\n",
        "# Question: A police officer pulls over an average of 3 people for speeding violations per shift. \n",
        "# What is the probability that the officer will pull over two people for speeding violations during their next shift?\n",
        "# ---\n",
        "# Expected Output: 0.22404180765538775\n",
        "# \n",
        "mean = 3\n",
        "lambda_= 2\n",
        "poisson.pmf(lambda_, mean)"
      ],
      "execution_count": 29,
      "outputs": [
        {
          "output_type": "execute_result",
          "data": {
            "text/plain": [
              "0.22404180765538775"
            ]
          },
          "metadata": {},
          "execution_count": 29
        }
      ]
    },
    {
      "cell_type": "code",
      "metadata": {
        "id": "IT8UssIhKwcO",
        "colab": {
          "base_uri": "https://localhost:8080/"
        },
        "outputId": "b82bb5fb-29f5-4af1-dc63-7ec740828533"
      },
      "source": [
        "# Challenge 2\n",
        "# ---\n",
        "# Question: A fireman fights, on average, 4 fires per month. \n",
        "# What is the probability that a fireman is called to two different fires this week?\n",
        "# ---\n",
        "# Expected Output: 0.18393972058572117\n",
        "# \n",
        "mean = 4/(30*7)\n",
        "lamba_ = 2\n",
        "poisson.pmf(lambda_, mean)"
      ],
      "execution_count": 27,
      "outputs": [
        {
          "output_type": "execute_result",
          "data": {
            "text/plain": [
              "0.018688240771970725"
            ]
          },
          "metadata": {},
          "execution_count": 27
        }
      ]
    },
    {
      "cell_type": "code",
      "metadata": {
        "id": "enLvIGpT3kU2",
        "colab": {
          "base_uri": "https://localhost:8080/"
        },
        "outputId": "96d14a0c-e793-42d2-ca0c-e0b64021f370"
      },
      "source": [
        "# Challenge 3\n",
        "# ---\n",
        "# Question: A car salesman sells an average of 4 cars per week. What is the probability they sell a car today?\n",
        "# ---\n",
        "# Expected Output: 0.32269606971871956\n",
        "#\n",
        "mean = 4/7\n",
        "lambda_ = 1\n",
        "\n",
        "poisson.pmf(lambda_, mean)"
      ],
      "execution_count": 22,
      "outputs": [
        {
          "output_type": "execute_result",
          "data": {
            "text/plain": [
              "0.3226960697187195"
            ]
          },
          "metadata": {},
          "execution_count": 22
        }
      ]
    },
    {
      "cell_type": "code",
      "metadata": {
        "id": "wgQNVn-u3lmX",
        "colab": {
          "base_uri": "https://localhost:8080/"
        },
        "outputId": "04816165-725b-40d4-cca3-fde4011cf756"
      },
      "source": [
        "# Challenge 4\n",
        "# ---\n",
        "# Question: A website makes an average of 50 sales per day. What is the probability that they make 3 sales in an hour?\n",
        "# ---\n",
        "# Expected Output: 0.18764840049328912\n",
        "# \n",
        "mean = 50/24\n",
        "lambda_ = 3\n",
        "poisson.pmf(lambda_, mean)"
      ],
      "execution_count": 21,
      "outputs": [
        {
          "output_type": "execute_result",
          "data": {
            "text/plain": [
              "0.18764840049328915"
            ]
          },
          "metadata": {},
          "execution_count": 21
        }
      ]
    },
    {
      "cell_type": "code",
      "metadata": {
        "id": "qY7Cmm0t6fN9",
        "colab": {
          "base_uri": "https://localhost:8080/"
        },
        "outputId": "aa4facc3-f92e-4f55-a7b8-35d13268246c"
      },
      "source": [
        "# Challenge 5\n",
        "# ---\n",
        "# Question: A factory produces 250 cars per week (assume that the factory runs day and night all week with no down time). \n",
        "# What is the probability that they produce 3 cars in the next hour?\n",
        "# ---\n",
        "# Expected Output: 0.1240136186052091\n",
        "# \n",
        "mean = 250/(7*24)\n",
        "lambda_ = 3\n",
        "poisson.pmf(lambda_, mean)"
      ],
      "execution_count": 20,
      "outputs": [
        {
          "output_type": "execute_result",
          "data": {
            "text/plain": [
              "0.12401361860520911"
            ]
          },
          "metadata": {},
          "execution_count": 20
        }
      ]
    },
    {
      "cell_type": "code",
      "metadata": {
        "id": "aQmRucIkiAVg",
        "colab": {
          "base_uri": "https://localhost:8080/"
        },
        "outputId": "ebf3fd4c-9beb-456f-b8ed-8452f1e6fdfc"
      },
      "source": [
        "# Challenge 6\n",
        "# ---\n",
        "# Question: \n",
        "# A Laptop Assembly unit is permorning a Defects Analysis, to understand the number of defects that could happen for a given defective laptop. \n",
        "# It is noted from past quality & audit data that 12 defects are noticed on an average for a defective Laptop, calculate\n",
        "# a) Probability that a defective laptop has exactly 5 defects\n",
        "# b) Probability that a defective laptop has less than 5 defects\n",
        "# ---\n",
        "# \n",
        "# \n",
        "mean = 12\n",
        "lambda_ = 5\n",
        "poisson.pmf(lambda_, mean)"
      ],
      "execution_count": 2,
      "outputs": [
        {
          "output_type": "execute_result",
          "data": {
            "text/plain": [
              "0.012740638735861376"
            ]
          },
          "metadata": {},
          "execution_count": 2
        }
      ]
    },
    {
      "cell_type": "code",
      "metadata": {
        "colab": {
          "base_uri": "https://localhost:8080/"
        },
        "id": "TiFGijA0zfDg",
        "outputId": "ebf918cb-b01b-4a6d-f91b-c0bbbf0d2d1a"
      },
      "source": [
        "# b) Probability that a defective laptop has less than 5 defects => Cummulative density function (where you have a 'factorial' order) instead of probability mass function that does only one distribution\n",
        "mean = 12\n",
        "lambda_ = 5\n",
        "poisson.cdf(lambda_, mean)"
      ],
      "execution_count": 3,
      "outputs": [
        {
          "output_type": "execute_result",
          "data": {
            "text/plain": [
              "0.020341029416928398"
            ]
          },
          "metadata": {},
          "execution_count": 3
        }
      ]
    },
    {
      "cell_type": "code",
      "metadata": {
        "id": "R5cczyGbiHXf",
        "colab": {
          "base_uri": "https://localhost:8080/"
        },
        "outputId": "befab37e-c926-42e4-925b-bd4fcc853b27"
      },
      "source": [
        "# Challenge 7\n",
        "# ---\n",
        "# Question: \n",
        "# If on an average, 6 customers arrive every one minute at a bank during the busy hours of working, \n",
        "# a) what is the probability that exactly four customers arrive in a given minute? \n",
        "# b) What is the probability that more than three customers will arrive in a given minute?\n",
        "# ---\n",
        "# \n",
        "# \n",
        "mean = 6\n",
        "lambda_ = 4\n",
        "poisson.pmf(lambda_, mean)"
      ],
      "execution_count": 6,
      "outputs": [
        {
          "output_type": "execute_result",
          "data": {
            "text/plain": [
              "0.13385261753998332"
            ]
          },
          "metadata": {},
          "execution_count": 6
        }
      ]
    },
    {
      "cell_type": "code",
      "metadata": {
        "colab": {
          "base_uri": "https://localhost:8080/"
        },
        "id": "ptu9si2N0qGJ",
        "outputId": "e6641cd4-6de3-45d7-fc7a-cc25da7dc489"
      },
      "source": [
        "# b) What is the probability that more than three customers will arrive in a given minute?\n",
        "#This is the ability to get a 4, a 5 or a 6\n",
        "mean = 6\n",
        "lambda_ = 3\n",
        "a = poisson.cdf(lambda_, mean)\n",
        "print (a)\n",
        "1 - a\n"
      ],
      "execution_count": 16,
      "outputs": [
        {
          "output_type": "stream",
          "name": "stdout",
          "text": [
            "0.15120388277664784\n"
          ]
        },
        {
          "output_type": "execute_result",
          "data": {
            "text/plain": [
              "0.8487961172233521"
            ]
          },
          "metadata": {},
          "execution_count": 16
        }
      ]
    },
    {
      "cell_type": "code",
      "metadata": {
        "id": "SaBvTXvBiIDn",
        "colab": {
          "base_uri": "https://localhost:8080/"
        },
        "outputId": "674c3b09-dd84-486a-b642-a8c2ba37e302"
      },
      "source": [
        "# Challenge 8\n",
        "# ---\n",
        "# Question: \n",
        "# Student arrive at the rate of 72 per hour in the college.\n",
        "# a) What is the probability of 5 student arriving in 4 min?\n",
        "# b) What is the probability of not more than 3 students arriving in 4 min? \n",
        "# b) What is the probability of more than 3 students arriving in 4 min?\n",
        "# ---\n",
        "# \n",
        "# \n",
        "mean = (72/60)*4\n",
        "lambda_ = 5\n",
        "poisson.pmf(lambda_, mean)"
      ],
      "execution_count": 10,
      "outputs": [
        {
          "output_type": "execute_result",
          "data": {
            "text/plain": [
              "0.17474768364388296"
            ]
          },
          "metadata": {},
          "execution_count": 10
        }
      ]
    },
    {
      "cell_type": "code",
      "metadata": {
        "colab": {
          "base_uri": "https://localhost:8080/"
        },
        "id": "cujJHO9_2OE5",
        "outputId": "afb06547-450a-4e0e-ff36-2d7d20e4ed79"
      },
      "source": [
        "mean = (72/60)*4\n",
        "lambda_ = 3\n",
        "b = poisson.cdf(lambda_, mean)\n",
        "print (b)"
      ],
      "execution_count": 18,
      "outputs": [
        {
          "output_type": "stream",
          "name": "stdout",
          "text": [
            "0.2942299164965642\n"
          ]
        }
      ]
    },
    {
      "cell_type": "code",
      "metadata": {
        "colab": {
          "base_uri": "https://localhost:8080/"
        },
        "id": "Nl-l4U9jchVP",
        "outputId": "febdc2c1-8876-43bd-f662-2a642b18712c"
      },
      "source": [
        "# b) What is the probability of more than 3 students arriving in 4 min?\n",
        "1-b"
      ],
      "execution_count": 19,
      "outputs": [
        {
          "output_type": "execute_result",
          "data": {
            "text/plain": [
              "0.7057700835034357"
            ]
          },
          "metadata": {},
          "execution_count": 19
        }
      ]
    }
  ]
}